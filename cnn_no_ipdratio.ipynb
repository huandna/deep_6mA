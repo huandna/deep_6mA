{
 "cells": [
  {
   "cell_type": "code",
   "execution_count": 3,
   "metadata": {},
   "outputs": [],
   "source": [
    "import keras\n",
    "from keras.layers import *\n",
    "import numpy as np\n",
    "import  pandas as  pd\n",
    "df= pd.read_csv(\"./20210331_train.data\",names=[i for i in range(106)])\n",
    "df=df.drop([0],axis=1)"
   ]
  },
  {
   "cell_type": "code",
   "execution_count": 4,
   "metadata": {},
   "outputs": [
    {
     "data": {
      "text/plain": [
       "array([[ 4.488, 20.549, 44.736, ...,  0.   ,  0.   ,  1.   ],\n",
       "       [ 4.246, 16.933, 35.2  , ...,  0.   ,  0.   ,  1.   ],\n",
       "       [11.374, 34.536, 66.   , ...,  0.   ,  0.   ,  0.   ],\n",
       "       ...,\n",
       "       [ 5.048, 19.229, 35.345, ...,  0.   ,  1.   ,  0.   ],\n",
       "       [ 5.238, 22.938, 54.194, ...,  0.   ,  0.   ,  1.   ],\n",
       "       [ 6.453, 30.073, 79.385, ...,  1.   ,  0.   ,  0.   ]])"
      ]
     },
     "execution_count": 4,
     "metadata": {},
     "output_type": "execute_result"
    }
   ],
   "source": [
    "#随机打乱数据\n",
    "from sklearn.utils import shuffle\n",
    "df = shuffle(df)\n",
    "data = df.values\n",
    "data"
   ]
  },
  {
   "cell_type": "code",
   "execution_count": 25,
   "metadata": {},
   "outputs": [
    {
     "data": {
      "text/plain": [
       "(56725, 106)"
      ]
     },
     "execution_count": 25,
     "metadata": {},
     "output_type": "execute_result"
    }
   ],
   "source": [
    "#1维CNN多频道数据处理\n",
    "# result=[]\n",
    "# time_steps = 4 \n",
    "# for i in range(len(data)-time_steps):\n",
    "#     result.append(data[i:i+time_steps].T)\n",
    "# result=np.array(result)\n",
    "#训练集和测试集的数据量划分\n",
    "# train_size = int(0.8*len(result))\n",
    "# print(train_size)\n",
    "# #训练集切分\n",
    "# train = result[:train_size,:]\n",
    "# x_train = train[:,:-1]\n",
    "# y_train = train[:,-1][:,-1]\n",
    "# x_test = result[train_size:,:-1]\n",
    "# y_test = result[train_size:,-1][:,-1]\n",
    "# print(\"X_train\", x_train.shape)\n",
    "# print(\"y_train\", y_train.shape)\n",
    "# print(\"X_test\", x_test.shape)\n",
    "# print(\"y_test\", y_test.shape)"
   ]
  },
  {
   "cell_type": "code",
   "execution_count": 6,
   "metadata": {},
   "outputs": [
    {
     "name": "stdout",
     "output_type": "stream",
     "text": [
      "45380\n",
      "X_train (45380, 104)\n",
      "y_train (45380,)\n",
      "X_test (11345, 104)\n",
      "y_test (11345,)\n"
     ]
    }
   ],
   "source": [
    "# 这里是一个频道\n",
    "result=data\n",
    "data.shape\n",
    "train_size = int(0.8*len(result))\n",
    "print(train_size)\n",
    "#训练集切分\n",
    "train = result[:train_size]\n",
    "x_train = train[:,:-1]\n",
    "y_train = train[:,-1]\n",
    "x_test = result[train_size:,:-1]\n",
    "y_test = result[train_size:,-1]\n",
    "print(\"X_train\", x_train.shape)\n",
    "print(\"y_train\", y_train.shape)\n",
    "print(\"X_test\", x_test.shape)\n",
    "print(\"y_test\", y_test.shape)"
   ]
  },
  {
   "cell_type": "code",
   "execution_count": 7,
   "metadata": {},
   "outputs": [
    {
     "data": {
      "text/plain": [
       "21348"
      ]
     },
     "execution_count": 7,
     "metadata": {},
     "output_type": "execute_result"
    }
   ],
   "source": [
    "#查看正负数据比例\n",
    "list(y_train).count(1.0)"
   ]
  },
  {
   "cell_type": "code",
   "execution_count": 8,
   "metadata": {},
   "outputs": [
    {
     "data": {
      "text/plain": [
       "array([[[ 3.588],\n",
       "        [14.939],\n",
       "        [32.276],\n",
       "        ...,\n",
       "        [ 0.   ],\n",
       "        [ 1.   ],\n",
       "        [ 0.   ]],\n",
       "\n",
       "       [[ 3.64 ],\n",
       "        [13.868],\n",
       "        [35.114],\n",
       "        ...,\n",
       "        [ 1.   ],\n",
       "        [ 1.   ],\n",
       "        [ 1.   ]],\n",
       "\n",
       "       [[ 4.071],\n",
       "        [14.627],\n",
       "        [28.369],\n",
       "        ...,\n",
       "        [ 0.   ],\n",
       "        [ 1.   ],\n",
       "        [ 1.   ]],\n",
       "\n",
       "       ...,\n",
       "\n",
       "       [[ 5.048],\n",
       "        [19.229],\n",
       "        [35.345],\n",
       "        ...,\n",
       "        [ 0.   ],\n",
       "        [ 0.   ],\n",
       "        [ 1.   ]],\n",
       "\n",
       "       [[ 5.238],\n",
       "        [22.938],\n",
       "        [54.194],\n",
       "        ...,\n",
       "        [ 1.   ],\n",
       "        [ 0.   ],\n",
       "        [ 0.   ]],\n",
       "\n",
       "       [[ 6.453],\n",
       "        [30.073],\n",
       "        [79.385],\n",
       "        ...,\n",
       "        [ 0.   ],\n",
       "        [ 1.   ],\n",
       "        [ 0.   ]]])"
      ]
     },
     "execution_count": 8,
     "metadata": {},
     "output_type": "execute_result"
    }
   ],
   "source": [
    "#数据重塑\n",
    "# cnn1D接收的数据\n",
    "x_train = x_train.reshape(x_train.shape[0],x_train.shape[1],1)\n",
    "x_test = x_test.reshape(x_test.shape[0],x_test.shape[1],1)\n",
    "x_test"
   ]
  },
  {
   "cell_type": "code",
   "execution_count": 9,
   "metadata": {},
   "outputs": [
    {
     "name": "stdout",
     "output_type": "stream",
     "text": [
      "Model: \"sequential_1\"\n",
      "_________________________________________________________________\n",
      "Layer (type)                 Output Shape              Param #   \n",
      "=================================================================\n",
      "conv1d_1 (Conv1D)            (None, 101, 80)           400       \n",
      "_________________________________________________________________\n",
      "conv1d_2 (Conv1D)            (None, 98, 80)            25680     \n",
      "_________________________________________________________________\n",
      "batch_normalization_1 (Batch (None, 98, 80)            320       \n",
      "_________________________________________________________________\n",
      "dropout_1 (Dropout)          (None, 98, 80)            0         \n",
      "_________________________________________________________________\n",
      "max_pooling1d_1 (MaxPooling1 (None, 49, 80)            0         \n",
      "_________________________________________________________________\n",
      "flatten_1 (Flatten)          (None, 3920)              0         \n",
      "_________________________________________________________________\n",
      "dense_1 (Dense)              (None, 10)                39210     \n",
      "_________________________________________________________________\n",
      "dense_2 (Dense)              (None, 1)                 11        \n",
      "=================================================================\n",
      "Total params: 65,621\n",
      "Trainable params: 65,461\n",
      "Non-trainable params: 160\n",
      "_________________________________________________________________\n"
     ]
    }
   ],
   "source": [
    "#模型构建\n",
    "model = keras.models.Sequential()\n",
    "model.add(Conv1D(80, kernel_size=4, activation='relu',input_shape = (104, 1)))\n",
    "model.add(Conv1D(80, kernel_size=4, activation='relu',input_shape = (104, 1)))\n",
    "model.add(BatchNormalization())\n",
    "model.add(Dropout(0.5))#dropoutlayer with a dropout rate of 0.5\n",
    "model.add(MaxPooling1D(pool_size=2, strides=None, padding='valid'))#A maximum pooling layer with a pool size of 2 was used\n",
    "model.add(Flatten())\n",
    "model.add(Dense(10, activation='relu', use_bias=True))#followed by a fully connected layer comprising 10 neurons with the use of the ReLU activation\n",
    "model.add(Dense(1, activation='sigmoid', use_bias=True))\n",
    "model.summary()"
   ]
  },
  {
   "cell_type": "code",
   "execution_count": 10,
   "metadata": {},
   "outputs": [],
   "source": [
    "#模型编译\n",
    "model.compile(loss='binary_crossentropy',optimizer='rmsprop',metrics=['accuracy'])"
   ]
  },
  {
   "cell_type": "code",
   "execution_count": 12,
   "metadata": {},
   "outputs": [
    {
     "name": "stdout",
     "output_type": "stream",
     "text": [
      "Train on 36304 samples, validate on 9076 samples\n",
      "Epoch 1/50\n",
      " - 8s - loss: 0.1381 - accuracy: 0.9488 - val_loss: 0.6369 - val_accuracy: 0.8299\n",
      "Epoch 2/50\n",
      " - 8s - loss: 0.1372 - accuracy: 0.9493 - val_loss: 0.5332 - val_accuracy: 0.8180\n",
      "Epoch 3/50\n",
      " - 8s - loss: 0.1368 - accuracy: 0.9492 - val_loss: 0.5073 - val_accuracy: 0.8135\n",
      "Epoch 4/50\n",
      " - 8s - loss: 0.1357 - accuracy: 0.9499 - val_loss: 0.5298 - val_accuracy: 0.8373\n",
      "Epoch 5/50\n",
      " - 8s - loss: 0.1349 - accuracy: 0.9499 - val_loss: 0.4869 - val_accuracy: 0.8208\n",
      "Epoch 6/50\n",
      " - 7s - loss: 0.1366 - accuracy: 0.9495 - val_loss: 0.5387 - val_accuracy: 0.7771\n",
      "Epoch 7/50\n",
      " - 7s - loss: 0.1355 - accuracy: 0.9504 - val_loss: 0.6765 - val_accuracy: 0.8389\n",
      "Epoch 8/50\n",
      " - 8s - loss: 0.1349 - accuracy: 0.9502 - val_loss: 0.6223 - val_accuracy: 0.7989\n",
      "Epoch 9/50\n",
      " - 8s - loss: 0.1353 - accuracy: 0.9506 - val_loss: 0.6120 - val_accuracy: 0.8500\n",
      "Epoch 10/50\n",
      " - 8s - loss: 0.1357 - accuracy: 0.9493 - val_loss: 0.5155 - val_accuracy: 0.7977\n",
      "Epoch 11/50\n",
      " - 8s - loss: 0.1336 - accuracy: 0.9505 - val_loss: 0.6171 - val_accuracy: 0.8239\n",
      "Epoch 12/50\n",
      " - 8s - loss: 0.1332 - accuracy: 0.9511 - val_loss: 0.7215 - val_accuracy: 0.7650\n",
      "Epoch 13/50\n",
      " - 7s - loss: 0.1297 - accuracy: 0.9526 - val_loss: 0.6991 - val_accuracy: 0.8290\n",
      "Epoch 14/50\n",
      " - 7s - loss: 0.1306 - accuracy: 0.9523 - val_loss: 0.6309 - val_accuracy: 0.7639\n",
      "Epoch 15/50\n",
      " - 7s - loss: 0.1307 - accuracy: 0.9514 - val_loss: 0.7059 - val_accuracy: 0.7510\n",
      "Epoch 16/50\n",
      " - 7s - loss: 0.1299 - accuracy: 0.9519 - val_loss: 0.4833 - val_accuracy: 0.8249\n",
      "Epoch 17/50\n",
      " - 7s - loss: 0.1315 - accuracy: 0.9518 - val_loss: 0.6110 - val_accuracy: 0.7818\n",
      "Epoch 18/50\n",
      " - 7s - loss: 0.1306 - accuracy: 0.9518 - val_loss: 0.5976 - val_accuracy: 0.7543\n",
      "Epoch 19/50\n",
      " - 7s - loss: 0.1307 - accuracy: 0.9515 - val_loss: 0.7180 - val_accuracy: 0.8024\n",
      "Epoch 20/50\n",
      " - 8s - loss: 0.1302 - accuracy: 0.9529 - val_loss: 0.6266 - val_accuracy: 0.7790\n",
      "Epoch 21/50\n",
      " - 7s - loss: 0.1286 - accuracy: 0.9527 - val_loss: 0.5344 - val_accuracy: 0.8088\n",
      "Epoch 22/50\n",
      " - 7s - loss: 0.1296 - accuracy: 0.9529 - val_loss: 0.7725 - val_accuracy: 0.8243\n",
      "Epoch 23/50\n",
      " - 7s - loss: 0.1296 - accuracy: 0.9537 - val_loss: 0.5871 - val_accuracy: 0.8128\n",
      "Epoch 24/50\n",
      " - 7s - loss: 0.1284 - accuracy: 0.9533 - val_loss: 0.8199 - val_accuracy: 0.8160\n",
      "Epoch 25/50\n",
      " - 7s - loss: 0.1274 - accuracy: 0.9530 - val_loss: 0.8522 - val_accuracy: 0.7854\n",
      "Epoch 26/50\n",
      " - 7s - loss: 0.1290 - accuracy: 0.9535 - val_loss: 0.6326 - val_accuracy: 0.7859\n",
      "Epoch 27/50\n",
      " - 7s - loss: 0.1289 - accuracy: 0.9519 - val_loss: 0.7501 - val_accuracy: 0.7138\n",
      "Epoch 28/50\n",
      " - 7s - loss: 0.1292 - accuracy: 0.9531 - val_loss: 0.9501 - val_accuracy: 0.8140\n",
      "Epoch 29/50\n",
      " - 7s - loss: 0.1265 - accuracy: 0.9545 - val_loss: 0.9029 - val_accuracy: 0.7200\n",
      "Epoch 30/50\n",
      " - 7s - loss: 0.1279 - accuracy: 0.9535 - val_loss: 0.7170 - val_accuracy: 0.7796\n",
      "Epoch 31/50\n",
      " - 7s - loss: 0.1274 - accuracy: 0.9544 - val_loss: 1.0471 - val_accuracy: 0.7867\n",
      "Epoch 32/50\n",
      " - 7s - loss: 0.1257 - accuracy: 0.9538 - val_loss: 1.1334 - val_accuracy: 0.7806\n",
      "Epoch 33/50\n",
      " - 7s - loss: 0.1273 - accuracy: 0.9540 - val_loss: 1.0386 - val_accuracy: 0.7725\n",
      "Epoch 34/50\n",
      " - 7s - loss: 0.1280 - accuracy: 0.9538 - val_loss: 0.6130 - val_accuracy: 0.7703\n",
      "Epoch 35/50\n",
      " - 7s - loss: 0.1248 - accuracy: 0.9552 - val_loss: 0.7489 - val_accuracy: 0.7605\n",
      "Epoch 36/50\n",
      " - 7s - loss: 0.1261 - accuracy: 0.9542 - val_loss: 0.8419 - val_accuracy: 0.7128\n",
      "Epoch 37/50\n",
      " - 8s - loss: 0.1261 - accuracy: 0.9543 - val_loss: 0.8780 - val_accuracy: 0.7271\n",
      "Epoch 38/50\n",
      " - 8s - loss: 0.1280 - accuracy: 0.9542 - val_loss: 0.8696 - val_accuracy: 0.7956\n",
      "Epoch 39/50\n",
      " - 7s - loss: 0.1264 - accuracy: 0.9536 - val_loss: 0.8689 - val_accuracy: 0.7032\n",
      "Epoch 40/50\n",
      " - 7s - loss: 0.1253 - accuracy: 0.9557 - val_loss: 0.9336 - val_accuracy: 0.7763\n",
      "Epoch 41/50\n",
      " - 7s - loss: 0.1248 - accuracy: 0.9539 - val_loss: 0.8627 - val_accuracy: 0.7198\n",
      "Epoch 42/50\n",
      " - 7s - loss: 0.1247 - accuracy: 0.9559 - val_loss: 0.7586 - val_accuracy: 0.7674\n",
      "Epoch 43/50\n",
      " - 7s - loss: 0.1229 - accuracy: 0.9548 - val_loss: 1.0300 - val_accuracy: 0.7715\n",
      "Epoch 44/50\n",
      " - 7s - loss: 0.1250 - accuracy: 0.9546 - val_loss: 0.9120 - val_accuracy: 0.7811\n",
      "Epoch 45/50\n",
      " - 7s - loss: 0.1230 - accuracy: 0.9555 - val_loss: 1.1363 - val_accuracy: 0.7814\n",
      "Epoch 46/50\n",
      " - 7s - loss: 0.1243 - accuracy: 0.9545 - val_loss: 1.1388 - val_accuracy: 0.7829\n",
      "Epoch 47/50\n",
      " - 8s - loss: 0.1241 - accuracy: 0.9546 - val_loss: 1.0911 - val_accuracy: 0.7575\n",
      "Epoch 48/50\n",
      " - 8s - loss: 0.1250 - accuracy: 0.9543 - val_loss: 0.6907 - val_accuracy: 0.7887\n",
      "Epoch 49/50\n",
      " - 8s - loss: 0.1223 - accuracy: 0.9560 - val_loss: 1.3310 - val_accuracy: 0.7750\n",
      "Epoch 50/50\n",
      " - 7s - loss: 0.1234 - accuracy: 0.9562 - val_loss: 0.8320 - val_accuracy: 0.7606\n",
      "375.9803419\n"
     ]
    }
   ],
   "source": [
    "#模型训练\n",
    "from timeit import default_timer as timer\n",
    "start = timer()\n",
    "history = model.fit(x_train,y_train,batch_size=128,epochs=50,validation_split=0.2,verbose=2)\n",
    "end = timer()\n",
    "print(end - start)"
   ]
  },
  {
   "cell_type": "code",
   "execution_count": 14,
   "metadata": {},
   "outputs": [
    {
     "name": "stdout",
     "output_type": "stream",
     "text": [
      "11345/11345 [==============================] - 1s 51us/step\n"
     ]
    },
    {
     "data": {
      "text/plain": [
       "[0.8585607549885708, 0.75337153673172]"
      ]
     },
     "execution_count": 14,
     "metadata": {},
     "output_type": "execute_result"
    }
   ],
   "source": [
    "#模型评估\n",
    "score = model.evaluate(x_test, y_test, batch_size=20)\n",
    "score\n"
   ]
  },
  {
   "cell_type": "code",
   "execution_count": 15,
   "metadata": {},
   "outputs": [],
   "source": [
    "import h5py\n",
    "from keras.models import load_model\n",
    "model.save(\"no_iparatio.h5\")"
   ]
  },
  {
   "cell_type": "code",
   "execution_count": 16,
   "metadata": {
    "collapsed": true
   },
   "outputs": [
    {
     "name": "stdout",
     "output_type": "stream",
     "text": [
      "Help on method evaluate in module keras.engine.training:\n",
      "\n",
      "evaluate(x=None, y=None, batch_size=None, verbose=1, sample_weight=None, steps=None, callbacks=None, max_queue_size=10, workers=1, use_multiprocessing=False) method of keras.engine.sequential.Sequential instance\n",
      "    Returns the loss value & metrics values for the model in test mode.\n",
      "    \n",
      "    Computation is done in batches.\n",
      "    \n",
      "    # Arguments\n",
      "        x: Input data. It could be:\n",
      "            - A Numpy array (or array-like), or a list of arrays\n",
      "              (in case the model has multiple inputs).\n",
      "            - A dict mapping input names to the corresponding\n",
      "              array/tensors, if the model has named inputs.\n",
      "            - A generator or `keras.utils.Sequence` returning\n",
      "              `(inputs, targets)` or `(inputs, targets, sample weights)`.\n",
      "            - None (default) if feeding from framework-native\n",
      "              tensors (e.g. TensorFlow data tensors).\n",
      "        y: Target data. Like the input data `x`,\n",
      "            it could be either Numpy array(s), framework-native tensor(s),\n",
      "            list of Numpy arrays (if the model has multiple outputs) or\n",
      "            None (default) if feeding from framework-native tensors\n",
      "            (e.g. TensorFlow data tensors).\n",
      "            If output layers in the model are named, you can also pass a\n",
      "            dictionary mapping output names to Numpy arrays.\n",
      "            If `x` is a generator, or `keras.utils.Sequence` instance,\n",
      "            `y` should not be specified (since targets will be obtained\n",
      "            from `x`).\n",
      "        batch_size: Integer or `None`.\n",
      "            Number of samples per gradient update.\n",
      "            If unspecified, `batch_size` will default to 32.\n",
      "            Do not specify the `batch_size` if your data is in the\n",
      "            form of symbolic tensors, generators, or\n",
      "            `keras.utils.Sequence` instances (since they generate batches).\n",
      "        verbose: 0 or 1. Verbosity mode.\n",
      "            0 = silent, 1 = progress bar.\n",
      "        sample_weight: Optional Numpy array of weights for\n",
      "            the test samples, used for weighting the loss function.\n",
      "            You can either pass a flat (1D)\n",
      "            Numpy array with the same length as the input samples\n",
      "            (1:1 mapping between weights and samples),\n",
      "            or in the case of temporal data,\n",
      "            you can pass a 2D array with shape\n",
      "            `(samples, sequence_length)`,\n",
      "            to apply a different weight to every timestep of every sample.\n",
      "            In this case you should make sure to specify\n",
      "            `sample_weight_mode=\"temporal\"` in `compile()`.\n",
      "        steps: Integer or `None`.\n",
      "            Total number of steps (batches of samples)\n",
      "            before declaring the evaluation round finished.\n",
      "            Ignored with the default value of `None`.\n",
      "        callbacks: List of `keras.callbacks.Callback` instances.\n",
      "            List of callbacks to apply during evaluation.\n",
      "            See [callbacks](/callbacks).\n",
      "        max_queue_size: Integer. Used for generator or `keras.utils.Sequence`\n",
      "            input only. Maximum size for the generator queue.\n",
      "            If unspecified, `max_queue_size` will default to 10.\n",
      "        workers: Integer. Used for generator or `keras.utils.Sequence` input\n",
      "            only. Maximum number of processes to spin up when using\n",
      "            process-based threading. If unspecified, `workers` will default\n",
      "            to 1. If 0, will execute the generator on the main thread.\n",
      "        use_multiprocessing: Boolean. Used for generator or\n",
      "            `keras.utils.Sequence` input only. If `True`, use process-based\n",
      "            threading. If unspecified, `use_multiprocessing` will default to\n",
      "            `False`. Note that because this implementation relies on\n",
      "            multiprocessing, you should not pass non-picklable arguments to\n",
      "            the generator as they can't be passed easily to children processes.\n",
      "    \n",
      "    # Raises\n",
      "        ValueError: in case of invalid arguments.\n",
      "    \n",
      "    # Returns\n",
      "        Scalar test loss (if the model has a single output and no metrics)\n",
      "        or list of scalars (if the model has multiple outputs\n",
      "        and/or metrics). The attribute `model.metrics_names` will give you\n",
      "        the display labels for the scalar outputs.\n",
      "\n"
     ]
    }
   ],
   "source": [
    "help(model.evaluate)"
   ]
  },
  {
   "cell_type": "code",
   "execution_count": 19,
   "metadata": {},
   "outputs": [
    {
     "data": {
      "image/png": "[encoded data removed]",
      "text/plain": [
       "<Figure size 1080x504 with 1 Axes>"
      ]
     },
     "metadata": {
      "needs_background": "light"
     },
     "output_type": "display_data"
    }
   ],
   "source": [
    "# 画出训练集和验证集的损失曲线\n",
    "\n",
    "history_dict = history.history\n",
    "import matplotlib.pyplot as plt\n",
    "loss_values = history_dict['loss']\n",
    "val_loss_values = history_dict['val_loss']\n",
    "loss_values50 = loss_values[0:150]\n",
    "val_loss_values50 = val_loss_values[0:150]\n",
    "epochs = range(1, len(loss_values50) + 1)\n",
    "plt.plot(epochs, loss_values50, 'b', color='blue', label='Training loss')\n",
    "plt.plot(epochs, val_loss_values50, 'b', color='red', label='Validation loss')\n",
    "plt.rc('font', size=18)\n",
    "plt.title('Training and validation loss')\n",
    "plt.xlabel('Epochs')\n",
    "plt.ylabel('Loss')\n",
    "plt.legend()\n",
    "plt.xticks(epochs)\n",
    "fig = plt.gcf()\n",
    "fig.set_size_inches(15, 7)\n",
    "# fig.savefig('img/tcstest&validationlosscnn.png', dpi=300)\n",
    "plt.show()\n"
   ]
  },
  {
   "cell_type": "code",
   "execution_count": 22,
   "metadata": {},
   "outputs": [
    {
     "data": {
      "text/plain": [
       "dict_keys(['val_loss', 'val_accuracy', 'loss', 'accuracy'])"
      ]
     },
     "execution_count": 22,
     "metadata": {},
     "output_type": "execute_result"
    }
   ],
   "source": [
    "history_dict.keys()"
   ]
  },
  {
   "cell_type": "code",
   "execution_count": 35,
   "metadata": {},
   "outputs": [
    {
     "data": {
      "image/png": "[encoded data removed]",
      "text/plain": [
       "<Figure size 1080x360 with 1 Axes>"
      ]
     },
     "metadata": {
      "needs_background": "light"
     },
     "output_type": "display_data"
    }
   ],
   "source": [
    "p = model.predict(x_test)\n",
    "# plt.plot(p,color='red', label='prediction')\n",
    "plt.plot(y_test-p.reshape(1,-1)[0],color='blue', label='y_test')\n",
    "plt.xlabel('No. of Trading Days')\n",
    "plt.ylabel('Close Value (scaled)')\n",
    "plt.legend(loc='upper left')\n",
    "fig = plt.gcf()\n",
    "fig.set_size_inches(15, 5)\n",
    "#fig.savefig('img/tcstestcnn.png', dpi=300)\n",
    "plt.show()\n"
   ]
  },
  {
   "cell_type": "code",
   "execution_count": 34,
   "metadata": {},
   "outputs": [
    {
     "data": {
      "text/plain": [
       "array([-0.00216901,  0.90956473,  0.3534227 , ...,  0.97450805,\n",
       "        0.        ,  0.45431024])"
      ]
     },
     "execution_count": 34,
     "metadata": {},
     "output_type": "execute_result"
    }
   ],
   "source": [
    "p.reshape(1,-1)[0]-y_test"
   ]
  },
  {
   "cell_type": "code",
   "execution_count": 20,
   "metadata": {
    "collapsed": true
   },
   "outputs": [
    {
     "ename": "KeyError",
     "evalue": "'mean_absolute_error'",
     "output_type": "error",
     "traceback": [
      "\u001b[1;31m---------------------------------------------------------------------------\u001b[0m",
      "\u001b[1;31mKeyError\u001b[0m                                  Traceback (most recent call last)",
      "\u001b[1;32m<ipython-input-20-9e1543be1fb1>\u001b[0m in \u001b[0;36m<module>\u001b[1;34m\u001b[0m\n\u001b[1;32m----> 1\u001b[1;33m \u001b[0mmae\u001b[0m \u001b[1;33m=\u001b[0m \u001b[0mhistory_dict\u001b[0m\u001b[1;33m[\u001b[0m\u001b[1;34m'mean_absolute_error'\u001b[0m\u001b[1;33m]\u001b[0m\u001b[1;33m\u001b[0m\u001b[1;33m\u001b[0m\u001b[0m\n\u001b[0m\u001b[0;32m      2\u001b[0m \u001b[0mvmae\u001b[0m \u001b[1;33m=\u001b[0m \u001b[0mhistory_dict\u001b[0m\u001b[1;33m[\u001b[0m\u001b[1;34m'val_mean_absolute_error'\u001b[0m\u001b[1;33m]\u001b[0m\u001b[1;33m\u001b[0m\u001b[1;33m\u001b[0m\u001b[0m\n\u001b[0;32m      3\u001b[0m \u001b[0mepochs\u001b[0m \u001b[1;33m=\u001b[0m \u001b[0mrange\u001b[0m\u001b[1;33m(\u001b[0m\u001b[1;36m1\u001b[0m\u001b[1;33m,\u001b[0m \u001b[0mlen\u001b[0m\u001b[1;33m(\u001b[0m\u001b[0mmae\u001b[0m\u001b[1;33m)\u001b[0m \u001b[1;33m+\u001b[0m \u001b[1;36m1\u001b[0m\u001b[1;33m)\u001b[0m\u001b[1;33m\u001b[0m\u001b[1;33m\u001b[0m\u001b[0m\n\u001b[0;32m      4\u001b[0m \u001b[0mplt\u001b[0m\u001b[1;33m.\u001b[0m\u001b[0mplot\u001b[0m\u001b[1;33m(\u001b[0m\u001b[0mepochs\u001b[0m\u001b[1;33m,\u001b[0m \u001b[0mmae\u001b[0m\u001b[1;33m,\u001b[0m \u001b[1;34m'b'\u001b[0m\u001b[1;33m,\u001b[0m\u001b[0mcolor\u001b[0m \u001b[1;33m=\u001b[0m \u001b[1;34m'blue'\u001b[0m\u001b[1;33m,\u001b[0m \u001b[0mlabel\u001b[0m\u001b[1;33m=\u001b[0m\u001b[1;34m'Training error'\u001b[0m\u001b[1;33m)\u001b[0m\u001b[1;33m\u001b[0m\u001b[1;33m\u001b[0m\u001b[0m\n\u001b[0;32m      5\u001b[0m \u001b[0mplt\u001b[0m\u001b[1;33m.\u001b[0m\u001b[0mplot\u001b[0m\u001b[1;33m(\u001b[0m\u001b[0mepochs\u001b[0m\u001b[1;33m,\u001b[0m \u001b[0mvmae\u001b[0m\u001b[1;33m,\u001b[0m \u001b[1;34m'b'\u001b[0m\u001b[1;33m,\u001b[0m\u001b[0mcolor\u001b[0m\u001b[1;33m=\u001b[0m\u001b[1;34m'red'\u001b[0m\u001b[1;33m,\u001b[0m \u001b[0mlabel\u001b[0m\u001b[1;33m=\u001b[0m\u001b[1;34m'Validation error'\u001b[0m\u001b[1;33m)\u001b[0m\u001b[1;33m\u001b[0m\u001b[1;33m\u001b[0m\u001b[0m\n",
      "\u001b[1;31mKeyError\u001b[0m: 'mean_absolute_error'"
     ]
    }
   ],
   "source": []
  }
 ],
 "metadata": {
  "kernelspec": {
   "display_name": "Python 3",
   "language": "python",
   "name": "python3"
  },
  "language_info": {
   "codemirror_mode": {
    "name": "ipython",
    "version": 3
   },
   "file_extension": ".py",
   "mimetype": "text/x-python",
   "name": "python",
   "nbconvert_exporter": "python",
   "pygments_lexer": "ipython3",
   "version": "3.6.13"
  }
 },
 "nbformat": 4,
 "nbformat_minor": 4
}
